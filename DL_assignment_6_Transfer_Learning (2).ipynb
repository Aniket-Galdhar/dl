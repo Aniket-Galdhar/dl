{
  "cells": [
    {
      "cell_type": "code",
      "source": [
        "import tensorflow as tf\n",
        "from tensorflow import keras\n",
        "from tensorflow.keras.applications import ResNet50\n",
        "from tensorflow.keras.models import Model\n",
        "from tensorflow.keras.layers import Dense, GlobalAveragePooling2D\n",
        "from tensorflow.keras.datasets import cifar10\n",
        "from tensorflow.keras.utils import to_categorical\n",
        "\n",
        "# Load and preprocess the CIFAR-10 dataset\n",
        "(train_images, train_labels), (test_images, test_labels) = cifar10.load_data()\n",
        "train_images, test_images = train_images / 255.0, test_images / 255.0\n",
        "train_labels, test_labels = to_categorical(train_labels), to_categorical(test_labels)\n",
        "\n",
        "# Load a pre-trained ResNet-50 model without the top (classification) layer\n",
        "base_model = ResNet50(weights='imagenet', include_top=False)\n",
        "\n",
        "# Add custom top layers for CIFAR-10 classification\n",
        "x = base_model.output\n",
        "x = GlobalAveragePooling2D()(x)\n",
        "x = Dense(1024, activation='relu')(x)\n",
        "predictions = Dense(10, activation='softmax')(x)\n",
        "\n",
        "model = Model(inputs=base_model.input, outputs=predictions)\n",
        "\n",
        "# Freeze the layers of the pre-trained ResNet-50\n",
        "for layer in base_model.layers:\n",
        "    layer.trainable = False\n",
        "\n",
        "# Compile the model\n",
        "model.compile(optimizer='adam',\n",
        "              loss='categorical_crossentropy',\n",
        "              metrics=['accuracy'])\n",
        "\n",
        "# Train the model\n",
        "model.fit(train_images, train_labels, epochs=10, validation_data=(test_images, test_labels))\n",
        "\n",
        "# Evaluate the model on the test dataset\n",
        "test_loss, test_accuracy = model.evaluate(test_images, test_labels)\n",
        "print(f\"Test accuracy: {test_accuracy}\")\n"
      ],
      "metadata": {
        "colab": {
          "base_uri": "https://localhost:8080/"
        },
        "id": "KsqtrLD0PfaY",
        "outputId": "17578062-1c03-42b4-a1a2-132fdb4ed79e"
      },
      "execution_count": 1,
      "outputs": [
        {
          "output_type": "stream",
          "name": "stdout",
          "text": [
            "Epoch 1/10\n",
            "1563/1563 [==============================] - 31s 16ms/step - loss: 2.0560 - accuracy: 0.2532 - val_loss: 1.8756 - val_accuracy: 0.3247\n",
            "Epoch 2/10\n",
            "1563/1563 [==============================] - 23s 15ms/step - loss: 1.8745 - accuracy: 0.3144 - val_loss: 1.8883 - val_accuracy: 0.3116\n",
            "Epoch 3/10\n",
            "1563/1563 [==============================] - 26s 17ms/step - loss: 1.8197 - accuracy: 0.3380 - val_loss: 1.7804 - val_accuracy: 0.3578\n",
            "Epoch 4/10\n",
            "1563/1563 [==============================] - 23s 15ms/step - loss: 1.7903 - accuracy: 0.3517 - val_loss: 1.7378 - val_accuracy: 0.3767\n",
            "Epoch 5/10\n",
            "1563/1563 [==============================] - 23s 15ms/step - loss: 1.7621 - accuracy: 0.3630 - val_loss: 1.7706 - val_accuracy: 0.3598\n",
            "Epoch 6/10\n",
            "1563/1563 [==============================] - 23s 15ms/step - loss: 1.7463 - accuracy: 0.3690 - val_loss: 1.7979 - val_accuracy: 0.3454\n",
            "Epoch 7/10\n",
            "1563/1563 [==============================] - 23s 15ms/step - loss: 1.7261 - accuracy: 0.3809 - val_loss: 1.6999 - val_accuracy: 0.3915\n",
            "Epoch 8/10\n",
            "1563/1563 [==============================] - 23s 15ms/step - loss: 1.7102 - accuracy: 0.3844 - val_loss: 1.6912 - val_accuracy: 0.3983\n",
            "Epoch 9/10\n",
            "1563/1563 [==============================] - 25s 16ms/step - loss: 1.7068 - accuracy: 0.3877 - val_loss: 1.7189 - val_accuracy: 0.3894\n",
            "Epoch 10/10\n",
            "1563/1563 [==============================] - 23s 15ms/step - loss: 1.6915 - accuracy: 0.3948 - val_loss: 1.6696 - val_accuracy: 0.3963\n",
            "313/313 [==============================] - 4s 13ms/step - loss: 1.6696 - accuracy: 0.3963\n",
            "Test accuracy: 0.39629998803138733\n"
          ]
        }
      ]
    },
    {
      "cell_type": "code",
      "source": [],
      "metadata": {
        "id": "yvSnH616QXXj"
      },
      "execution_count": null,
      "outputs": []
    }
  ],
  "metadata": {
    "kernelspec": {
      "display_name": "Python 3",
      "name": "python3"
    },
    "language_info": {
      "codemirror_mode": {
        "name": "ipython",
        "version": 3
      },
      "file_extension": ".py",
      "mimetype": "text/x-python",
      "name": "python",
      "nbconvert_exporter": "python",
      "pygments_lexer": "ipython3",
      "version": "3.10.9"
    },
    "orig_nbformat": 4,
    "colab": {
      "provenance": [],
      "gpuType": "T4"
    },
    "accelerator": "GPU"
  },
  "nbformat": 4,
  "nbformat_minor": 0
}